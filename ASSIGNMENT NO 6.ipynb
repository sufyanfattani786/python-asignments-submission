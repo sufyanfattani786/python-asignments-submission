{
 "cells": [
  {
   "cell_type": "markdown",
   "metadata": {},
   "source": [
    "# Assignment-6  "
   ]
  },
  {
   "cell_type": "markdown",
   "metadata": {},
   "source": [
    "# Object Oriented Programming\n",
    "\n",
    "Object-oriented programming (OOP) is a programming paradigm based on the concept of \"objects\", which may contain data, in the form of fields, often known as attributes; and code, in the form of procedures, often known as methods. For example, a person is an object which has certain properties such as height, gender, age, etc. It also has certain methods such as move, talk, and so on.\n",
    "\n"
   ]
  },
  {
   "cell_type": "markdown",
   "metadata": {},
   "source": [
    "# Benefits of Object Oriented Programming\n",
    "\n",
    "There are several benefits of Object Oriented Programming. Some of them are as follows:\n",
    "\n",
    "1. Modular Structure: Oject Oriented Programs are modular in structure. Means code written is nicely structured in form of modules. These modules could be called when desired.\n",
    "\n",
    "2. Reusability: Modular Structure makes them highly re-usable. More over Object Orientiented languages come with rich libraries which are reusable.\n",
    "\n",
    "3. Extensibility: Means new features can always be added.\n",
    "\n",
    "4. Maintainability: It is is always easy to maintain a nicely structured code. More over a change in a module/code does not mean you have to change the entire program.\n",
    "\n",
    "5. Faster Developmnent Cycle: All of this result in faster development of code.\n",
    "\n",
    "6. Lower Cost of Development: Since the code is re-usable and modular structured, development cost is low compared to other approaches. More over,more time in spent on Object Analysis and Design which also helps in reducing the overall cost.\n",
    "\n",
    "7. Higher Quality: Although Quality of Code is significantlly dependent on experience of programmers,this approach results in greater quality compared to traditional approaches. "
   ]
  },
  {
   "cell_type": "markdown",
   "metadata": {},
   "source": [
    "# Difference between function and a method\n",
    "\n",
    "A function is a piece of code that is called by name. It can be passed data to operate on (i.e. the parameters) and can optionally return data (the return value). All data that is passed to a function is explicitly passed.\n",
    "\n",
    "A method is a piece of code that is called by a name that is associated with an object. In most respects it is identical to a function except for two key differences:\n",
    "\n",
    "A method is implicitly passed the object on which it was called.\n",
    "A method is able to operate on data that is contained within the class (remembering that an object is an instance of a class - the class is the definition, the object is an instance of that data)."
   ]
  },
  {
   "cell_type": "markdown",
   "metadata": {},
   "source": [
    "# Defination of some terms in Object Oriented Programming\n",
    "\n",
    "1.Class:\n",
    "A class represents a collection of objects having same characteristic properties that exhibit common behavior. It gives the blueprint or description of the objects that can be created from it. Creation of an object as a member of a class is called instantiation. Thus, object is an instance of a class.\n",
    "\n",
    "2.Object:\n",
    "An object is nothing but a self-contained component which consists of some attributes or properties and methods or behavior to make a particular type of data useful. \n",
    "\n",
    "3.Attribute:\n",
    "An Attribute is the characteristics or property associated to an object. For example a dog has breed, it has an age, a height etc. \n",
    "\n",
    "4.Behavior:\n",
    "A Behavior or a method is also associated to the object, but here some action is performed. For example a dog barks, it eats ,it runs."
   ]
  },
  {
   "cell_type": "code",
   "execution_count": 1,
   "metadata": {},
   "outputs": [
    {
     "name": "stdout",
     "output_type": "stream",
     "text": [
      "White,Toyota has stopped\n",
      "Black,Toyota is now ready to move\n",
      "Yellow,Suzuki is now on it's way\n",
      "Black,Suzuki is now on it's way\n",
      "Red,Toyota has stopped\n"
     ]
    }
   ],
   "source": [
    "# Code for defining and instantiating a class Car.\n",
    "\n",
    "\n",
    "class Car():\n",
    "    def __init__(self,make,model,color,yom,transmission):\n",
    "#Here we are creating a class car, The car has a name which is reffered by make, a car has a model,\n",
    "#Similarly color, year of manufacture \"yom\", and transmission refers to gear type whether it is manual or automatic.\n",
    "#Note we have used init method.This is because we want to create instance from this class.\n",
    "        self.make = make\n",
    "        self.model = model\n",
    "        self.color = color                              #Initializing the attributes of car\n",
    "        self.yom = yom\n",
    "        self.transmission = transmission\n",
    "#Our next job is to create some methods 'or behavior' associated with the car.\n",
    "    def start(self):\n",
    "        print(f'{self.color},{self.make.title()} is now ready to move')\n",
    "        \n",
    "    def stop(self):\n",
    "        print(f'{self.color},{self.make.title()} has stopped')\n",
    "        \n",
    "    def move(self):\n",
    "        print(f\"{self.color},{self.make.title()} is now on it's way\")\n",
    "        \n",
    "        \n",
    "#Let the fun begin, we are now 5 instances of this class.\n",
    "\n",
    "Taxi_0304 = Car(\"Toyota\",\"Carolla\",\"White\",\"2010\",\"Auto\")\n",
    "Taxi_0967 = Car(\"Toyota\",\"Carona\",\"Black\",\"2003\",\"Manual\")\n",
    "Taxi_1089 = Car(\"Suzuki\",\"Alto\",\"Yellow\",\"2004\",\"Manual\")  #passing the parameters\n",
    "Taxi_2987 = Car(\"Suzuki\",\"Mehran\",\"Black\",\"1999\",\"Manual\")\n",
    "Taxi_3459 = Car(\"Toyota\",\"Carolla\",\"Red\",\"2015\",\"Auto\")\n",
    "\n",
    "Taxi_0304.stop()\n",
    "Taxi_0967.start()\n",
    "Taxi_1089.move()          #calling the methods\n",
    "Taxi_2987.move()\n",
    "Taxi_3459.stop()    \n",
    "        \n"
   ]
  },
  {
   "cell_type": "code",
   "execution_count": null,
   "metadata": {
    "collapsed": true
   },
   "outputs": [],
   "source": []
  }
 ],
 "metadata": {
  "kernelspec": {
   "display_name": "Python 3",
   "language": "python",
   "name": "python3"
  },
  "language_info": {
   "codemirror_mode": {
    "name": "ipython",
    "version": 3
   },
   "file_extension": ".py",
   "mimetype": "text/x-python",
   "name": "python",
   "nbconvert_exporter": "python",
   "pygments_lexer": "ipython3",
   "version": "3.7.4"
  }
 },
 "nbformat": 4,
 "nbformat_minor": 2
}
