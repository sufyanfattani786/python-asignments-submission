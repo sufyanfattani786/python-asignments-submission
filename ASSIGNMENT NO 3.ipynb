{
 "cells": [
  {
   "cell_type": "code",
   "execution_count": 2,
   "metadata": {},
   "outputs": [
    {
     "name": "stdout",
     "output_type": "stream",
     "text": [
      "enter 1st value2\n",
      "enter 2nd value2\n",
      "enter operator**\n",
      "answer is 4\n"
     ]
    }
   ],
   "source": [
    "val1 = input(\"enter 1st value\")\n",
    "val2 = input(\"enter 2nd value\")\n",
    "operator = input(\"enter operator\")\n",
    "\n",
    "val1 =int(val1)\n",
    "val2 =int(val2)\n",
    "\n",
    "if operator == \"+\" :\n",
    "    val = val1 + val2\n",
    "    print('answer is' , val)\n",
    "elif operator == \"-\" :\n",
    "    val = val1 - val2\n",
    "    print('answer is' , val)\n",
    "elif operator == \"/\" :\n",
    "    val = val1 / val2\n",
    "    print('answer is' , val)\n",
    "elif operator == \"*\" :\n",
    "    val = val1 * val2\n",
    "    print('answer is' , val)\n",
    "elif operator == \"**\" :\n",
    "    val = val1 ** val2\n",
    "    print('answer is' , val)    \n",
    "else:\n",
    "    print('enter correct operator')\n"
   ]
  },
  {
   "cell_type": "code",
   "execution_count": 3,
   "metadata": {},
   "outputs": [
    {
     "name": "stdout",
     "output_type": "stream",
     "text": [
      "a is string\n",
      "b is string\n",
      "10 is the numeric value\n",
      "c is string\n",
      "20 is the numeric value\n",
      "d is string\n",
      "30 is the numeric value\n",
      "40.5 is the float value\n"
     ]
    }
   ],
   "source": [
    "lst = [\"a\", \"b\", 10, \"c\", 20, \"d\", 30, 40.5]\n",
    "for i in lst:\n",
    "    if type (i)== int:\n",
    "        print(i, \"is the numeric value\")\n",
    "        \n",
    "    elif type (i)== float:\n",
    "        print(i, \"is the float value\")\n",
    "        \n",
    "    elif type (i)== str:\n",
    "        print(i, \"is string\")"
   ]
  },
  {
   "cell_type": "code",
   "execution_count": 5,
   "metadata": {},
   "outputs": [
    {
     "name": "stdout",
     "output_type": "stream",
     "text": [
      " DONKEY\n",
      " MANGO\n",
      "{'DONKEY': 'MANGO'}\n"
     ]
    }
   ],
   "source": [
    "dictionary = {}\n",
    "animal_name = input(\" \")\n",
    "fruit_name = input(\" \")\n",
    "dictionary.update({animal_name :fruit_name})\n",
    "\n",
    "print(dictionary)\n"
   ]
  },
  {
   "cell_type": "code",
   "execution_count": 7,
   "metadata": {},
   "outputs": [
    {
     "name": "stdout",
     "output_type": "stream",
     "text": [
      "Sum of all numeric values in  a dictionary is 143\n"
     ]
    }
   ],
   "source": [
    "Dictionary = {\n",
    "    \"number_1\" :25,\n",
    "    \"number_2\" : 35 ,\n",
    "     str : \"name\",\n",
    "    \"number_3\" : 39 ,\n",
    "    str : \"animal_name\" ,\n",
    "    \"number_4\" : 44 ,\n",
    "}\n",
    "\n",
    "sum = 0 \n",
    "for i in Dictionary.values():\n",
    "    if type(i) == int:\n",
    "        sum +=i\n",
    "\n",
    "print(\"Sum of all numeric values in  a dictionary is\" , sum)"
   ]
  },
  {
   "cell_type": "code",
   "execution_count": 8,
   "metadata": {},
   "outputs": [
    {
     "name": "stdout",
     "output_type": "stream",
     "text": [
      "Repeted item in list are [2, 3, 4, 5, 7]\n"
     ]
    }
   ],
   "source": [
    "lst = [2,3,4,5,6,5,4,3,2,7,5,7]\n",
    "list_range = len(lst)\n",
    "repeated = []\n",
    "for i in range (list_range):\n",
    "    a = i + 2\n",
    "    for b in range(a, list_range):\n",
    "        if lst[i] == lst[b] and lst[i] not in repeated:\n",
    "            repeated.append(lst[i])\n",
    "print(\"Repeted item in list are\" , repeated)"
   ]
  },
  {
   "cell_type": "code",
   "execution_count": 11,
   "metadata": {},
   "outputs": [
    {
     "name": "stdout",
     "output_type": "stream",
     "text": [
      "Enter Key Name Check if exist or notstr\n",
      "Given Key does not exist\n"
     ]
    }
   ],
   "source": [
    "Dictionary = {\n",
    "    \"animal_name\" : \"Lion\", \n",
    "    \"plant_name\": \"Dandalion \",\n",
    "     str : \"name\",\n",
    "    \"number_3\" : 36 ,\n",
    "    str : \"animal_name\" ,\n",
    "    \"number_4\" : 48 ,\n",
    "}\n",
    "check_key = input(\"Enter Key Name Check if exist or not\")\n",
    "flag = False\n",
    "for i in Dictionary.keys():\n",
    "    if i == check_key:\n",
    "        flag = True\n",
    "        break\n",
    "\n",
    "if flag:\n",
    "    print(\"Given Key exist\")\n",
    "else:\n",
    "    print(\"Given Key does not exist\")"
   ]
  },
  {
   "cell_type": "code",
   "execution_count": null,
   "metadata": {},
   "outputs": [],
   "source": []
  },
  {
   "cell_type": "code",
   "execution_count": null,
   "metadata": {},
   "outputs": [],
   "source": []
  }
 ],
 "metadata": {
  "kernelspec": {
   "display_name": "Python 3",
   "language": "python",
   "name": "python3"
  },
  "language_info": {
   "codemirror_mode": {
    "name": "ipython",
    "version": 3
   },
   "file_extension": ".py",
   "mimetype": "text/x-python",
   "name": "python",
   "nbconvert_exporter": "python",
   "pygments_lexer": "ipython3",
   "version": "3.7.4"
  }
 },
 "nbformat": 4,
 "nbformat_minor": 2
}
