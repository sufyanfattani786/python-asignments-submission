{
 "cells": [
  {
   "cell_type": "code",
   "execution_count": 11,
   "metadata": {},
   "outputs": [
    {
     "name": "stdout",
     "output_type": "stream",
     "text": [
      "Enter urdu Marks45\n",
      "Enter english Marks40\n",
      "Enter maths Marks35\n",
      "Enter islamiat Marks41\n",
      "Enter history Marks42\n",
      "203 marks obtained\n",
      "81.2 %\n",
      "A\n"
     ]
    }
   ],
   "source": [
    "urdu = int(input(\"Enter urdu Marks\"))\n",
    "english = int(input(\"Enter english Marks\"))\n",
    "maths = int(input(\"Enter maths Marks\"))\n",
    "islamiat= int(input(\"Enter islamiat Marks\"))\n",
    "history = int(input(\"Enter history Marks\"))\n",
    "total_marks = (urdu+english+maths+islamiat+history)\n",
    "print(total_marks ,'marks obtained')\n",
    "\n",
    "\n",
    "percentage = (total_marks / 250*100 )\n",
    "\n",
    "print(percentage , \"%\")\n",
    "\n",
    "if percentage >= 90 :\n",
    "    print(\"a+\")\n",
    "elif percentage >= 80 and percentage >= 70 :\n",
    "    print(\"A\")\n",
    "elif percentage >= 70 and percentage >= 60 :\n",
    "    print(\"B\")\n",
    "elif percentage >= 60 and percentage >= 50 :\n",
    "    print(\"c\")\n",
    "elif percentage >= 40 and percentage >= 30 :\n",
    "    print(\"d\")\n",
    "elif percentage <= 29 :\n",
    "    print(\"FAIL\")"
   ]
  },
  {
   "cell_type": "code",
   "execution_count": 13,
   "metadata": {},
   "outputs": [
    {
     "name": "stdout",
     "output_type": "stream",
     "text": [
      "Enter A Number4\n",
      "You Enter an Even Number\n"
     ]
    }
   ],
   "source": [
    "number= int(input(\"Enter A Number\"))\n",
    "if number%2 == 0:\n",
    "    print(\"You Enter an Even Number\")\n",
    "else:\n",
    "    print(\"You Enter an Odd Number\")"
   ]
  },
  {
   "cell_type": "code",
   "execution_count": 18,
   "metadata": {},
   "outputs": [
    {
     "name": "stdout",
     "output_type": "stream",
     "text": [
      "the length of the list is 10\n"
     ]
    }
   ],
   "source": [
    "lst=[0,1,2,3,4,5,6,7,8,9]\n",
    "print(\"the length of the list is \"+str(len(lst)))"
   ]
  },
  {
   "cell_type": "code",
   "execution_count": 16,
   "metadata": {},
   "outputs": [
    {
     "name": "stdout",
     "output_type": "stream",
     "text": [
      "the sum of list is 1450\n"
     ]
    }
   ],
   "source": [
    "lst = [50,100,150,300,600,250]\n",
    "sum = 0\n",
    "for i in lst:\n",
    "    sum +=i\n",
    "    \n",
    "print(\"the sum of list is \"+str(sum))"
   ]
  },
  {
   "cell_type": "code",
   "execution_count": 20,
   "metadata": {},
   "outputs": [
    {
     "name": "stdout",
     "output_type": "stream",
     "text": [
      "the largest number from the list is 69\n"
     ]
    }
   ],
   "source": [
    "lst = [12, 24, 36, 48, 10,54,69]\n",
    "print(\"the largest number from the list is \" + str(max(lst)))"
   ]
  },
  {
   "cell_type": "code",
   "execution_count": null,
   "metadata": {},
   "outputs": [],
   "source": [
    "lst = [10, 1, 25, 2, 30, 3, 40, 4, 50, 5]\n",
    "for i in lst:\n",
    "    if i < 5:\n",
    "        print(i)\n"
   ]
  }
 ],
 "metadata": {
  "kernelspec": {
   "display_name": "Python 3",
   "language": "python",
   "name": "python3"
  },
  "language_info": {
   "codemirror_mode": {
    "name": "ipython",
    "version": 3
   },
   "file_extension": ".py",
   "mimetype": "text/x-python",
   "name": "python",
   "nbconvert_exporter": "python",
   "pygments_lexer": "ipython3",
   "version": "3.7.4"
  }
 },
 "nbformat": 4,
 "nbformat_minor": 2
}
